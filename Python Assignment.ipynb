{
 "cells": [
  {
   "cell_type": "markdown",
   "id": "b2d12b97-12c1-4da5-97c5-00922806dbcc",
   "metadata": {},
   "source": [
    "## Python Basics"
   ]
  },
  {
   "cell_type": "code",
   "execution_count": null,
   "id": "417bc97a-0c3f-4a2d-badd-718aed9094d6",
   "metadata": {},
   "outputs": [
    {
     "name": "stdout",
     "output_type": "stream",
     "text": [
      "Enter Your Name:  Tekumudi Nanda Kishore\n"
     ]
    },
    {
     "name": "stdout",
     "output_type": "stream",
     "text": [
      "Tekumudi Nanda Kishore\n"
     ]
    }
   ],
   "source": [
    "# Write a program to print your name\n",
    "\n",
    "name=input(\"Enter Your Name: \")\n",
    "print(name)"
   ]
  },
  {
   "cell_type": "code",
   "execution_count": null,
   "id": "9536a34a-4256-4dc5-a28f-4fecdbb6054c",
   "metadata": {},
   "outputs": [
    {
     "name": "stdout",
     "output_type": "stream",
     "text": [
      "hi\n",
      "hello \n",
      "hi\n",
      "\n"
     ]
    }
   ],
   "source": [
    "# Write a program for a Single line comment and multi-line comments\n",
    "a='''hi\n",
    "hello \n",
    "hi\n",
    "'''\n",
    "\n",
    "print(a)"
   ]
  },
  {
   "cell_type": "code",
   "execution_count": null,
   "id": "d1c7ce41-9fec-422c-b065-5014c092d248",
   "metadata": {},
   "outputs": [
    {
     "name": "stdout",
     "output_type": "stream",
     "text": [
      "a <class 'int'>\n",
      "b <class 'bool'>\n",
      "c <class 'str'>\n",
      "d <class 'float'>\n"
     ]
    }
   ],
   "source": [
    "# Define variables for different Data Types int, Boolean, char, float, double and print on the Console.\n",
    "\n",
    "a=12\n",
    "b=True\n",
    "c=\"Nanda\"\n",
    "d=12.4\n",
    "print(\"a\",type(a))\n",
    "print(\"b\",type(b))\n",
    "print(\"c\",type(c))\n",
    "print(\"d\",type(d))"
   ]
  },
  {
   "cell_type": "code",
   "execution_count": null,
   "id": "8da9fa6b-b0c2-4af4-b328-8d9895e3ca3a",
   "metadata": {},
   "outputs": [
    {
     "name": "stdout",
     "output_type": "stream",
     "text": [
      "10\n"
     ]
    }
   ],
   "source": [
    "# . Define the local and Global variables with the same name and print both variables and understand the scope of the variables \n",
    "\n",
    "a=10\n",
    "def variable(self):\n",
    "    a=20\n",
    "print(a)"
   ]
  },
  {
   "cell_type": "markdown",
   "id": "db3c5693-36d6-4e6a-8760-73c5592e0c10",
   "metadata": {},
   "source": [
    "## Operators"
   ]
  },
  {
   "cell_type": "code",
   "execution_count": 6,
   "id": "9be048c2-fc57-49ba-bf55-03bec4bca69a",
   "metadata": {},
   "outputs": [
    {
     "name": "stdout",
     "output_type": "stream",
     "text": [
      " 5 * 5\n"
     ]
    },
    {
     "name": "stdout",
     "output_type": "stream",
     "text": [
      "25\n"
     ]
    }
   ],
   "source": [
    "# Write a function for arithmetic operators(+,-,*,/)\n",
    "\n",
    "def arithmetic(a,symbol,b):\n",
    "    if symbol==\"+\":\n",
    "        return a+b\n",
    "    elif symbol == \"-\":\n",
    "        return a-b\n",
    "    elif symbol == \"*\":\n",
    "        return a*b\n",
    "    else:\n",
    "        return a/b\n",
    "a,symbol,b=map(str,input().split())\n",
    "a=int(a)\n",
    "b=int(b)\n",
    "print(arithmetic(a,symbol,b))"
   ]
  },
  {
   "cell_type": "code",
   "execution_count": 7,
   "id": "0557b512-88bc-44f4-884e-e409c0756307",
   "metadata": {},
   "outputs": [
    {
     "name": "stdout",
     "output_type": "stream",
     "text": [
      " 14\n"
     ]
    },
    {
     "name": "stdout",
     "output_type": "stream",
     "text": [
      "Increment 15\n",
      "Decrement 14\n"
     ]
    }
   ],
   "source": [
    "# Write a method for increment and decrement operators(++, --)\n",
    "\n",
    "class Counter:\n",
    "    def __init__(self, value=0):\n",
    "        self.value = value\n",
    "\n",
    "    def increment(self):\n",
    "        \"\"\"Simulates the ++ operator\"\"\"\n",
    "        self.value += 1\n",
    "        return self.value\n",
    "\n",
    "    def decrement(self):\n",
    "        \"\"\"Simulates the -- operator\"\"\"\n",
    "        self.value -= 1\n",
    "        return self.value\n",
    "\n",
    "# Example Usage\n",
    "counter = Counter(int(input()))\n",
    "print(\"Increment\",counter.increment())  \n",
    "print(\"Decrement\",counter.decrement()) "
   ]
  },
  {
   "cell_type": "code",
   "execution_count": 8,
   "id": "2e2699e7-65f0-4b07-88c1-d9f7dbd4b8e8",
   "metadata": {},
   "outputs": [
    {
     "name": "stdout",
     "output_type": "stream",
     "text": [
      "Enter your first number 15\n",
      "Enter your second number 15\n"
     ]
    },
    {
     "name": "stdout",
     "output_type": "stream",
     "text": [
      "Two numbers are equal\n"
     ]
    }
   ],
   "source": [
    "# Write a program to find the two numbers equal or not.\n",
    "\n",
    "a=int(input(\"Enter your first number\"))\n",
    "b=int(input(\"Enter your second number\"))\n",
    "\n",
    "if a==b:\n",
    "    print(\"Two numbers are equal\")\n",
    "else:\n",
    "    print(\"Two numbers are not equal\")"
   ]
  },
  {
   "cell_type": "code",
   "execution_count": 9,
   "id": "52f3f706-b5b4-404c-8ad1-5d0e4d32f08b",
   "metadata": {},
   "outputs": [
    {
     "name": "stdout",
     "output_type": "stream",
     "text": [
      " 1 2\n"
     ]
    },
    {
     "name": "stdout",
     "output_type": "stream",
     "text": [
      "a < b\n"
     ]
    }
   ],
   "source": [
    "# Program for relational operators (<,<=, >, >=)\n",
    "\n",
    "a,b=map(int, input().split())\n",
    "if a<b:\n",
    "    print(\"a < b\")\n",
    "elif a>b:\n",
    "    print(\"a > b\")\n",
    "else:\n",
    "    print(\"a == b\")"
   ]
  },
  {
   "cell_type": "code",
   "execution_count": 11,
   "id": "ccdbccd7-f7a4-4abe-8c4c-7b9f508a66a8",
   "metadata": {},
   "outputs": [
    {
     "name": "stdout",
     "output_type": "stream",
     "text": [
      "Enter list of number with spaces 1 2 3 4\n"
     ]
    },
    {
     "name": "stdout",
     "output_type": "stream",
     "text": [
      "Large number 4\n",
      "Smaller number 1\n"
     ]
    }
   ],
   "source": [
    "# Print the smaller and larger number\n",
    "\n",
    "a=list(map(int, input(\"Enter list of number with spaces\").split()))\n",
    "print(\"Large number\",max(a))\n",
    "print(\"Smaller number\",min(a))"
   ]
  },
  {
   "cell_type": "markdown",
   "id": "e93e68f0-09a7-4d13-8281-a307e2a404c4",
   "metadata": {},
   "source": [
    "## Loops"
   ]
  },
  {
   "cell_type": "code",
   "execution_count": 12,
   "id": "e94a9213-0933-4695-965b-28b886e14fb1",
   "metadata": {},
   "outputs": [
    {
     "name": "stdout",
     "output_type": "stream",
     "text": [
      "Bright TI Career\n",
      "Bright TI Career\n",
      "Bright TI Career\n",
      "Bright TI Career\n",
      "Bright TI Career\n",
      "Bright TI Career\n",
      "Bright TI Career\n",
      "Bright TI Career\n",
      "Bright TI Career\n",
      "Bright TI Career\n"
     ]
    }
   ],
   "source": [
    "#  Write a program to print “Bright IT Career” ten times using for loop\n",
    "\n",
    "for i in range(10):\n",
    "    print(\"Bright TI Career\")"
   ]
  },
  {
   "cell_type": "code",
   "execution_count": 13,
   "id": "ee082d5e-b7b1-4d7b-bdfc-dc4990eecc61",
   "metadata": {},
   "outputs": [
    {
     "name": "stdout",
     "output_type": "stream",
     "text": [
      "1 2 3 4 5 6 7 8 9 10 11 12 13 14 15 16 17 18 19 20 "
     ]
    }
   ],
   "source": [
    "# Write a python program to print 1 to 20 numbers using the while loop.\n",
    "\n",
    "i=1\n",
    "while i<=20:\n",
    "    print(i,end=\" \")\n",
    "    i+=1"
   ]
  },
  {
   "cell_type": "code",
   "execution_count": 14,
   "id": "542bfa8e-5a38-40f3-8b22-dc01bce026d2",
   "metadata": {},
   "outputs": [
    {
     "name": "stdout",
     "output_type": "stream",
     "text": [
      " 2 3\n"
     ]
    },
    {
     "name": "stdout",
     "output_type": "stream",
     "text": [
      "a != b\n"
     ]
    }
   ],
   "source": [
    "# Program to equal operator and not equal operators\n",
    "\n",
    "a,b = map(int, input().split())\n",
    "if a==b:\n",
    "    print(\"a == b\")\n",
    "else:\n",
    "    print(\"a != b\")"
   ]
  },
  {
   "cell_type": "code",
   "execution_count": 15,
   "id": "6fdb3f44-2484-41a2-8564-a34996e7a144",
   "metadata": {},
   "outputs": [
    {
     "name": "stdout",
     "output_type": "stream",
     "text": [
      "  6\n"
     ]
    },
    {
     "name": "stdout",
     "output_type": "stream",
     "text": [
      "6 is an even number\n"
     ]
    }
   ],
   "source": [
    "# Write a program to print the odd and even numbers \n",
    "\n",
    "a=int(input())\n",
    "\n",
    "if a%2==0:\n",
    "    print(a,\"is an even number\")\n",
    "else:\n",
    "    print(a,\"is a odd number\")"
   ]
  },
  {
   "cell_type": "code",
   "execution_count": 16,
   "id": "90ddd93a-df6a-4f1c-8904-f745b52738a8",
   "metadata": {},
   "outputs": [
    {
     "name": "stdout",
     "output_type": "stream",
     "text": [
      "Enter your 3 numbers with spaces 10 21 25\n"
     ]
    },
    {
     "name": "stdout",
     "output_type": "stream",
     "text": [
      "25 is largest number\n"
     ]
    }
   ],
   "source": [
    "# write a program to print largest number among three numbers.\n",
    "\n",
    "a,b,c = map(int, input(\"Enter your 3 numbers with spaces\").split())\n",
    "if a>b and a>c:\n",
    "    print(a,\"is largest number\")\n",
    "elif b>a and b>c:\n",
    "    print(b,\"is largest number\")\n",
    "else:\n",
    "    print(c, \"is largest number\")"
   ]
  },
  {
   "cell_type": "code",
   "execution_count": 17,
   "id": "ba70f765-bddb-4fbd-b83d-f5ab16adbffc",
   "metadata": {},
   "outputs": [
    {
     "name": "stdout",
     "output_type": "stream",
     "text": [
      "10 12 14 16 18 20 "
     ]
    }
   ],
   "source": [
    "#  Write a program to print even number between 10 and 20 using while\n",
    "\n",
    "i=10\n",
    "while i<=20:\n",
    "    if i%2==0:\n",
    "        print(i,end=\" \")\n",
    "    i+=1"
   ]
  },
  {
   "cell_type": "code",
   "execution_count": 18,
   "id": "90c7b81f-e2df-4b87-94b9-6fbb89efa7ed",
   "metadata": {},
   "outputs": [
    {
     "name": "stdout",
     "output_type": "stream",
     "text": [
      "1 2 3 4 5 6 7 8 9 10 11 12 13 14 15 16 17 18 19 20 "
     ]
    }
   ],
   "source": [
    "#  Write a program to print 1 to 10 using the do-while loop statement.\n",
    "\n",
    "i=1\n",
    "\n",
    "while True:\n",
    "    print(i,end=\" \")\n",
    "    i+=1\n",
    "    if i>=21:\n",
    "        break"
   ]
  },
  {
   "cell_type": "code",
   "execution_count": 19,
   "id": "0f4a3e4e-353a-4e7e-b2a9-c0a1b0215769",
   "metadata": {},
   "outputs": [
    {
     "name": "stdout",
     "output_type": "stream",
     "text": [
      " 153\n"
     ]
    },
    {
     "name": "stdout",
     "output_type": "stream",
     "text": [
      "153 Armstrong Number\n"
     ]
    }
   ],
   "source": [
    "# Write a program to find Armstrong number or not\n",
    "\n",
    "a=input()\n",
    "temp=int(a)\n",
    "sum=0\n",
    "\n",
    "for i in a:\n",
    "    i=int(i)\n",
    "    sum+=i**len(a)\n",
    "if sum==temp:\n",
    "    print(a,\"Armstrong Number\")\n",
    "else:\n",
    "    print(a,\"Not an armstrong number\")\n"
   ]
  },
  {
   "cell_type": "code",
   "execution_count": 20,
   "id": "b3775698-7c60-48e9-b4cb-445b31432816",
   "metadata": {},
   "outputs": [
    {
     "name": "stdout",
     "output_type": "stream",
     "text": [
      "Enter a number:  17\n"
     ]
    },
    {
     "name": "stdout",
     "output_type": "stream",
     "text": [
      "17 is a prime number\n"
     ]
    }
   ],
   "source": [
    "# Write a program to find the prime or not.\n",
    "\n",
    "def is_prime(n):\n",
    "    if n < 2:\n",
    "        return False  # Prime numbers are greater than 1\n",
    "    for i in range(2, int(n**0.5) + 1):  # Check divisibility up to sqrt(n)\n",
    "        if n % i == 0:\n",
    "            return False  # If divisible, it's not prime\n",
    "    return True  # Otherwise, it's prime\n",
    "\n",
    "# Example Usage\n",
    "num = int(input(\"Enter a number: \"))\n",
    "if is_prime(num):\n",
    "    print(num,\"is a prime number\")\n",
    "else:\n",
    "    print(num,\"is not a prime number\")\n"
   ]
  },
  {
   "cell_type": "code",
   "execution_count": 21,
   "id": "aa1600a9-7e39-4e23-89f0-57e9d55a44f5",
   "metadata": {},
   "outputs": [
    {
     "name": "stdout",
     "output_type": "stream",
     "text": [
      " 121\n"
     ]
    },
    {
     "name": "stdout",
     "output_type": "stream",
     "text": [
      "Palindrome\n"
     ]
    }
   ],
   "source": [
    "# Write a program to palindrome or not.\n",
    "\n",
    "n=int(input())\n",
    "temp=n\n",
    "s=0\n",
    "while n!=0:\n",
    "    r=n%10\n",
    "    s = s*10 + r\n",
    "    n=n//10\n",
    "if temp==s:\n",
    "    print(\"Palindrome\")\n",
    "else:\n",
    "    print(\"Not Palindrome\")"
   ]
  },
  {
   "cell_type": "code",
   "execution_count": 22,
   "id": "8d60b02b-76f8-4cc0-a9f8-418da50bd4bc",
   "metadata": {},
   "outputs": [
    {
     "name": "stdout",
     "output_type": "stream",
     "text": [
      " 265\n"
     ]
    },
    {
     "name": "stdout",
     "output_type": "stream",
     "text": [
      "ODD\n"
     ]
    }
   ],
   "source": [
    "# Program to check whether a number is EVEN or ODD using switch\n",
    "a=int(input())\n",
    "a=a%2\n",
    "match (a) :\n",
    "    case 1 :\n",
    "        print(\"ODD\")\n",
    "    case _:\n",
    "        print(\"EVEN\")"
   ]
  },
  {
   "cell_type": "markdown",
   "id": "b0347143-5473-4d72-a621-0d3cd7bc7821",
   "metadata": {},
   "source": [
    "## Array"
   ]
  },
  {
   "cell_type": "code",
   "execution_count": 23,
   "id": "dd68044c-52b6-4e7e-b697-f9eb192e6bd0",
   "metadata": {},
   "outputs": [
    {
     "name": "stdout",
     "output_type": "stream",
     "text": [
      "before adding []\n"
     ]
    },
    {
     "name": "stdout",
     "output_type": "stream",
     "text": [
      " 6\n"
     ]
    },
    {
     "name": "stdout",
     "output_type": "stream",
     "text": [
      "After adding [6]\n"
     ]
    }
   ],
   "source": [
    "# 1. Write a function to add integer values of an array\n",
    "\n",
    "a=[]\n",
    "print(\"before adding\", a)\n",
    "b=int(input())\n",
    "a.append(b)\n",
    "print(\"After adding\", a)"
   ]
  },
  {
   "cell_type": "code",
   "execution_count": 1,
   "id": "719213a6-6418-4ec9-a27d-dd4bcb5465dd",
   "metadata": {},
   "outputs": [
    {
     "name": "stdout",
     "output_type": "stream",
     "text": [
      " 1 2 3 4 5\n"
     ]
    },
    {
     "name": "stdout",
     "output_type": "stream",
     "text": [
      "3\n"
     ]
    }
   ],
   "source": [
    "# 2. Write a function to calculate the average value of an array of integers\n",
    "\n",
    "a=list(map(int, input().split()))\n",
    "b=sum(a)/len(a)\n",
    "print(int(b)) "
   ]
  },
  {
   "cell_type": "code",
   "execution_count": 2,
   "id": "82ca19b2-db8c-4855-942a-a3e3b041dc9d",
   "metadata": {},
   "outputs": [
    {
     "name": "stdout",
     "output_type": "stream",
     "text": [
      " 1 2 3 4 5\n",
      " 3\n"
     ]
    },
    {
     "data": {
      "text/plain": [
       "2"
      ]
     },
     "execution_count": 2,
     "metadata": {},
     "output_type": "execute_result"
    }
   ],
   "source": [
    "# 3. Write a program to find the index of an array element\n",
    "\n",
    "a=list(map(int, input().split()))\n",
    "b=int(input())\n",
    "a.index(b)"
   ]
  },
  {
   "cell_type": "code",
   "execution_count": 3,
   "id": "0986df26-0fd8-4b7e-abaf-827f259ea5dc",
   "metadata": {},
   "outputs": [
    {
     "name": "stdout",
     "output_type": "stream",
     "text": [
      " 1 2 3 4 5\n",
      " 5\n"
     ]
    },
    {
     "name": "stdout",
     "output_type": "stream",
     "text": [
      "Element is available\n"
     ]
    }
   ],
   "source": [
    "# 4. Write a function to test if array contains a specific value\n",
    "\n",
    "def element_is_available_or_not(arr,b):\n",
    "    if b in a:\n",
    "        return \"Element is available\"\n",
    "    else:\n",
    "        return \"Element is not available\"\n",
    "arr=list(map(int, input().split()))\n",
    "b=int(input())\n",
    "print(element_is_available_or_not(arr,b))"
   ]
  },
  {
   "cell_type": "code",
   "execution_count": 4,
   "id": "654fd32e-af48-4a2c-971a-9ff790528d1a",
   "metadata": {},
   "outputs": [
    {
     "name": "stdout",
     "output_type": "stream",
     "text": [
      " 1 2 3 4 5\n",
      " 4\n"
     ]
    },
    {
     "name": "stdout",
     "output_type": "stream",
     "text": [
      "1 2 3 5\n"
     ]
    }
   ],
   "source": [
    "# 5. Write a function to remove a specific element from an array\n",
    "\n",
    "def remove(arr,b):\n",
    "    if b in arr:\n",
    "        arr.remove(b)\n",
    "arr=list(map(int, input().split()))\n",
    "b=int(input())\n",
    "remove(arr,b)\n",
    "print(*arr)"
   ]
  },
  {
   "cell_type": "code",
   "execution_count": 5,
   "id": "0ee343e3-1185-409d-89c7-7bd53c938b48",
   "metadata": {},
   "outputs": [
    {
     "name": "stdout",
     "output_type": "stream",
     "text": [
      " 1 2 3 4\n"
     ]
    },
    {
     "name": "stdout",
     "output_type": "stream",
     "text": [
      "[1, 2, 3, 4]\n",
      "[1, 2, 3, 4]\n"
     ]
    }
   ],
   "source": [
    "# 6. Write a function to copy an array to another array\n",
    "\n",
    "def copy_array(arr):\n",
    "    copied_array = arr.copy()\n",
    "    return copied_array\n",
    "\n",
    "arr=list(map(int, input().split()))\n",
    "print(arr)\n",
    "print(copy_array(arr))\n",
    "    "
   ]
  },
  {
   "cell_type": "code",
   "execution_count": 6,
   "id": "531bb47e-405b-494b-9de6-eab95aece717",
   "metadata": {},
   "outputs": [
    {
     "name": "stdout",
     "output_type": "stream",
     "text": [
      " 1 2 3 4 5\n",
      "  3 4\n"
     ]
    },
    {
     "name": "stdout",
     "output_type": "stream",
     "text": [
      "1 2 3 4 4 5\n"
     ]
    }
   ],
   "source": [
    "# 7. Write a function to insert an element at a specific position in the array\n",
    "\n",
    "def insert_element(arr,index,value):\n",
    "        arr.insert(index,value)\n",
    "        return arr\n",
    "arr=list(map(int, input().split()))\n",
    "index,value=map(int, input().split())\n",
    "print(*insert_element(arr,index,value))"
   ]
  },
  {
   "cell_type": "code",
   "execution_count": 7,
   "id": "3dbf5411-2bb4-461f-a5c2-f9364f56326a",
   "metadata": {},
   "outputs": [
    {
     "name": "stdout",
     "output_type": "stream",
     "text": [
      " 1 2 3 4 5\n"
     ]
    },
    {
     "name": "stdout",
     "output_type": "stream",
     "text": [
      "1 5\n"
     ]
    }
   ],
   "source": [
    "# 8. Write a function to find the minimum and maximum value of an array\n",
    "\n",
    "def max_min(arr):\n",
    "    a=min(arr)\n",
    "    b=max(arr)\n",
    "    return a,b\n",
    "arr=list(map(int, input().split()))\n",
    "print(*max_min(arr))"
   ]
  },
  {
   "cell_type": "code",
   "execution_count": 8,
   "id": "51db9f99-0722-4d03-8e47-893fae00a3e6",
   "metadata": {},
   "outputs": [
    {
     "name": "stdout",
     "output_type": "stream",
     "text": [
      " 1 2 3 4 5\n"
     ]
    },
    {
     "name": "stdout",
     "output_type": "stream",
     "text": [
      "5 4 3 2 1\n"
     ]
    }
   ],
   "source": [
    "# 9. Write a function to reverse an array of integer values\n",
    "\n",
    "def reverse(arr):\n",
    "    arr = arr[::-1]\n",
    "    return arr\n",
    "arr=list(map(int, input().split()))\n",
    "print(*reverse(arr))"
   ]
  },
  {
   "cell_type": "code",
   "execution_count": 9,
   "id": "5bf563e8-0570-40fc-9184-5d1b71d44b70",
   "metadata": {},
   "outputs": [
    {
     "name": "stdout",
     "output_type": "stream",
     "text": [
      " 1 2 3 4 5 5\n"
     ]
    },
    {
     "name": "stdout",
     "output_type": "stream",
     "text": [
      "5\n"
     ]
    }
   ],
   "source": [
    "# 10. Write a function to find the duplicate values of an array\n",
    "\n",
    "def duplicates(arr):\n",
    "    for i in arr:\n",
    "        if arr.count(i) > 1:\n",
    "            return i\n",
    "arr=list(map(int, input().split()))\n",
    "print(duplicates(arr))"
   ]
  },
  {
   "cell_type": "code",
   "execution_count": 10,
   "id": "23457c30-e325-403b-b1e1-47a564668400",
   "metadata": {},
   "outputs": [
    {
     "name": "stdout",
     "output_type": "stream",
     "text": [
      " 1 2 3 4 5\n",
      " 5 6 7 8\n"
     ]
    },
    {
     "name": "stdout",
     "output_type": "stream",
     "text": [
      "5\n"
     ]
    }
   ],
   "source": [
    "# 11. Write a program to find the common values between two arrays\n",
    "\n",
    "def common_values(arr,arr1):\n",
    "    a = list(set(arr) & set(arr1))\n",
    "    return a\n",
    "\n",
    "arr = list(map(int, input().split()))\n",
    "arr1 = list(map(int, input().split()))\n",
    "print(*common_values(arr,arr1))"
   ]
  },
  {
   "cell_type": "code",
   "execution_count": 11,
   "id": "395dface-5e10-49c7-9767-cd7c2605174a",
   "metadata": {},
   "outputs": [
    {
     "name": "stdout",
     "output_type": "stream",
     "text": [
      " 1 2 2 3 4 5\n"
     ]
    },
    {
     "name": "stdout",
     "output_type": "stream",
     "text": [
      "1 2 3 4 5\n"
     ]
    }
   ],
   "source": [
    "# 12. Write a method to remove duplicate elements from an array\n",
    "\n",
    "def removing_elements(arr):\n",
    "    arr=list(set(arr))\n",
    "    return arr\n",
    "\n",
    "arr=list(map(int, input().split()))\n",
    "print(*removing_elements(arr))"
   ]
  },
  {
   "cell_type": "code",
   "execution_count": 12,
   "id": "4f9f653b-0516-4840-95b4-3874d5b41c1a",
   "metadata": {},
   "outputs": [
    {
     "name": "stdout",
     "output_type": "stream",
     "text": [
      " 1 3 4 2 5\n"
     ]
    },
    {
     "name": "stdout",
     "output_type": "stream",
     "text": [
      "4\n"
     ]
    }
   ],
   "source": [
    "# 13. Write a method to find the second largest number in an array\n",
    "\n",
    "def second_largest(arr):\n",
    "    arr.sort()\n",
    "    a=arr[-2]\n",
    "    return a\n",
    "\n",
    "arr=list(map(int, input().split()))\n",
    "print(second_largest(arr))"
   ]
  },
  {
   "cell_type": "code",
   "execution_count": 13,
   "id": "05d5c95f-e77e-4272-9839-4dbd47354276",
   "metadata": {},
   "outputs": [
    {
     "name": "stdout",
     "output_type": "stream",
     "text": [
      " 1 2 3 4 5 6\n"
     ]
    },
    {
     "name": "stdout",
     "output_type": "stream",
     "text": [
      "2 4 6\n",
      "1 3 5\n"
     ]
    }
   ],
   "source": [
    "# 15. Write a method to find number of even number and odd numbers in an array\n",
    "\n",
    "def odd_even(arr):\n",
    "    even=[]\n",
    "    odd=[]\n",
    "    for i in arr:\n",
    "        if i%2==0:\n",
    "            even.append(i)\n",
    "        else:\n",
    "            odd.append(i)\n",
    "    return even,odd\n",
    "\n",
    "arr=list(map(int, input().split()))\n",
    "a,b=odd_even(arr)\n",
    "print(*a)\n",
    "print(*b)"
   ]
  },
  {
   "cell_type": "code",
   "execution_count": 14,
   "id": "5983b0bd-4da3-44fa-8323-337812a96ad4",
   "metadata": {},
   "outputs": [
    {
     "name": "stdout",
     "output_type": "stream",
     "text": [
      " 1 2 3 4 5\n"
     ]
    },
    {
     "name": "stdout",
     "output_type": "stream",
     "text": [
      "4\n"
     ]
    }
   ],
   "source": [
    "# 16. Write a function to get the difference of largest and smallest value\n",
    "\n",
    "def lar_sml(arr):\n",
    "    a=max(arr) - min(arr)\n",
    "    return a\n",
    "\n",
    "arr=list(map(int, input().split()))\n",
    "print(lar_sml(arr))"
   ]
  },
  {
   "cell_type": "code",
   "execution_count": 15,
   "id": "a0d15f07-1383-4b63-9ebf-715fd0cff1e8",
   "metadata": {},
   "outputs": [
    {
     "name": "stdout",
     "output_type": "stream",
     "text": [
      " 1 2 3 4 5\n",
      "  2 3\n"
     ]
    },
    {
     "name": "stdout",
     "output_type": "stream",
     "text": [
      "1 4 5\n"
     ]
    }
   ],
   "source": [
    "# 17. Write a method to verify if the array contains two specified elements(12,23)\n",
    "\n",
    "def remove(arr,a,b):\n",
    "    arr.remove(a),arr.remove(b)\n",
    "    return arr\n",
    "arr=list(map(int, input().split()))\n",
    "a,b=map(int, input().split())\n",
    "print(*remove(arr,a,b))"
   ]
  },
  {
   "cell_type": "code",
   "execution_count": 16,
   "id": "21c44621-3772-4e25-9628-4e5ca41709b4",
   "metadata": {},
   "outputs": [
    {
     "name": "stdout",
     "output_type": "stream",
     "text": [
      " 1 2 2 3 4 5 6\n"
     ]
    },
    {
     "name": "stdout",
     "output_type": "stream",
     "text": [
      "1 2 3 4 5 6\n"
     ]
    }
   ],
   "source": [
    "# 18. Write a program to remove the duplicate elements and return the new array\n",
    "\n",
    "def remove_duplicates(arr):\n",
    "    arr=list(set(arr))\n",
    "    return arr\n",
    "\n",
    "arr=list(map(int, input().split()))\n",
    "print(*remove_duplicates(arr))"
   ]
  },
  {
   "cell_type": "markdown",
   "id": "f040d4cb-cb48-40a2-9f30-ebc3f49865c6",
   "metadata": {},
   "source": [
    "## Static"
   ]
  },
  {
   "cell_type": "code",
   "execution_count": 17,
   "id": "b45856a4-d977-49bf-b73a-62074686a10f",
   "metadata": {},
   "outputs": [
    {
     "name": "stdout",
     "output_type": "stream",
     "text": [
      "BMW\n"
     ]
    }
   ],
   "source": [
    "# 1. Define a static variable and access that through a class\n",
    "\n",
    "class Car:\n",
    "    \n",
    "    name = \"BMW\"\n",
    "\n",
    "    def __init__(self):\n",
    "        pass\n",
    "print(Car.name)\n"
   ]
  },
  {
   "cell_type": "code",
   "execution_count": 18,
   "id": "50ea3cb9-e393-4b4c-983d-adc171ec1239",
   "metadata": {},
   "outputs": [
    {
     "name": "stdout",
     "output_type": "stream",
     "text": [
      "BMW\n"
     ]
    }
   ],
   "source": [
    "# 2. Define a static variable and access that through a instance\n",
    "\n",
    "class Car:\n",
    "    name = \"BMW\"\n",
    "    \n",
    "    def __init__(self):\n",
    "        pass\n",
    "car1  = Car() # Creating Instance\n",
    "print(car1.name)"
   ]
  },
  {
   "cell_type": "code",
   "execution_count": 19,
   "id": "cb69ff91-3735-46f7-ad81-204a896c4e6b",
   "metadata": {},
   "outputs": [
    {
     "name": "stdout",
     "output_type": "stream",
     "text": [
      "BMW\n"
     ]
    },
    {
     "name": "stdout",
     "output_type": "stream",
     "text": [
      " Audi\n"
     ]
    },
    {
     "name": "stdout",
     "output_type": "stream",
     "text": [
      "Audi\n"
     ]
    }
   ],
   "source": [
    "# 3. Define a static variable and change within the instance\n",
    "\n",
    "class Car:\n",
    "    car_name = \"BMW\"\n",
    "\n",
    "    def __init__(self):\n",
    "        pass\n",
    "\n",
    "    def update_car_name(self,name):\n",
    "        self.car_name = name \n",
    "        return self.car_name\n",
    "\n",
    "car1 = Car()\n",
    "print(car1.car_name)\n",
    "name = input()\n",
    "print(car1.update_car_name(name))"
   ]
  },
  {
   "cell_type": "code",
   "execution_count": 20,
   "id": "946b0002-3cb1-4f93-a426-73e3cef5035b",
   "metadata": {},
   "outputs": [
    {
     "name": "stdout",
     "output_type": "stream",
     "text": [
      "BMW\n",
      "Audi\n"
     ]
    }
   ],
   "source": [
    "# 4. Define a static variable and change within the class\n",
    "\n",
    "class Car:\n",
    "    car_name = \"BMW\"\n",
    "    def update(name):\n",
    "        car_name = name \n",
    "        return car_name\n",
    "\n",
    "print(Car.car_name)\n",
    "print(Car.update(name=\"Audi\"))"
   ]
  },
  {
   "cell_type": "markdown",
   "id": "d020b56c-2baa-46d0-a0c4-e95d1f04dc75",
   "metadata": {},
   "source": [
    "## Strings"
   ]
  },
  {
   "cell_type": "code",
   "execution_count": 21,
   "id": "af0c1a4a-87a7-4b09-93fd-0266567a2743",
   "metadata": {},
   "outputs": [
    {
     "name": "stdout",
     "output_type": "stream",
     "text": [
      " Nanda\n"
     ]
    },
    {
     "name": "stdout",
     "output_type": "stream",
     "text": [
      "Nanda\n",
      "Hello\n",
      "Hello World\n",
      "Using Single Quotetions\n",
      "hi \n",
      "hello \n",
      "bye\n",
      "\n"
     ]
    }
   ],
   "source": [
    "# 1. Different ways creating a string\n",
    "\n",
    "way1 = input()\n",
    "print(way1)\n",
    "\n",
    "way2 = \"Hello\"\n",
    "print(way2)\n",
    "\n",
    "\n",
    "way3 = \"Hello\" + \" \" + \"World\"\n",
    "print(way3)\n",
    "\n",
    "way4 = 'Using Single Quotetions'\n",
    "print(way4)\n",
    "\n",
    "way5 = '''hi \n",
    "hello \n",
    "bye\n",
    "'''\n",
    "print(way5)"
   ]
  },
  {
   "cell_type": "code",
   "execution_count": 22,
   "id": "3d534ae2-e385-4c5a-b915-b0d495736ca2",
   "metadata": {},
   "outputs": [
    {
     "name": "stdout",
     "output_type": "stream",
     "text": [
      "Hello World\n"
     ]
    }
   ],
   "source": [
    "# 2. Concatenating two strings using + operator\n",
    "\n",
    "str1 = \"Hello\"\n",
    "str2 = \"World\"\n",
    "str3 = str1+\" \"+str2\n",
    "print(str3)"
   ]
  },
  {
   "cell_type": "code",
   "execution_count": 23,
   "id": "6f36943c-426b-4b8c-aa51-6702488ab8fd",
   "metadata": {},
   "outputs": [
    {
     "name": "stdout",
     "output_type": "stream",
     "text": [
      " Nanda \n"
     ]
    },
    {
     "name": "stdout",
     "output_type": "stream",
     "text": [
      "Length of the given string is 6\n"
     ]
    }
   ],
   "source": [
    "# 3. Finding the length of the string\n",
    "\n",
    "a=input()\n",
    "print(f\"Length of the given string is {len(a)}\")"
   ]
  },
  {
   "cell_type": "code",
   "execution_count": 24,
   "id": "e9c1302c-6467-44e6-b6f4-664eb486e340",
   "metadata": {},
   "outputs": [
    {
     "name": "stdout",
     "output_type": "stream",
     "text": [
      " python\n"
     ]
    },
    {
     "name": "stdout",
     "output_type": "stream",
     "text": [
      "I love python\n"
     ]
    }
   ],
   "source": [
    "# 4. Extract a string using Substring\n",
    "\n",
    "a=[\"I love python\",\"I love java\",\"I love SQL\"]\n",
    "b=input()\n",
    "\n",
    "for i in a:\n",
    "    if b in i:\n",
    "        print(i)"
   ]
  },
  {
   "cell_type": "code",
   "execution_count": 25,
   "id": "74a33b7b-b9cf-4a05-89bd-b326d71354ee",
   "metadata": {},
   "outputs": [
    {
     "name": "stdout",
     "output_type": "stream",
     "text": [
      " Nanda\n",
      "Enter index value: 2\n"
     ]
    },
    {
     "name": "stdout",
     "output_type": "stream",
     "text": [
      "n\n"
     ]
    }
   ],
   "source": [
    "# 5. Searching in strings using index()\n",
    "\n",
    "a=input()\n",
    "b=int(input(\"Enter index value:\"))\n",
    "print(a[b])"
   ]
  },
  {
   "cell_type": "code",
   "execution_count": 27,
   "id": "bf6c5fbf-0b98-4b65-ae89-152b67c4bfe0",
   "metadata": {},
   "outputs": [
    {
     "name": "stdout",
     "output_type": "stream",
     "text": [
      " Sat\n"
     ]
    },
    {
     "name": "stdout",
     "output_type": "stream",
     "text": [
      "Saturday\n"
     ]
    }
   ],
   "source": [
    "# 6. Matching a String Against a Regular Expression With matches()\n",
    "\n",
    "name = input()\n",
    "\n",
    "match name:\n",
    "    case \"Mon\":\n",
    "        print(\"Monday\")\n",
    "    case \"Tue\":\n",
    "        print(\"Tuesday\")\n",
    "    case \"Wed\":\n",
    "        print(\"Wednesday\")\n",
    "    case \"Thu\":\n",
    "        print(\"Thursday\")\n",
    "    case \"Fri\":\n",
    "        print(\"Friday\")\n",
    "    case \"Sat\":\n",
    "        print(\"Saturday\")\n",
    "    case _:\n",
    "        print(\"Invalid name was entered\")"
   ]
  },
  {
   "cell_type": "code",
   "execution_count": 28,
   "id": "7f73b4b2-bad4-4b0d-afb7-adf873d777fd",
   "metadata": {},
   "outputs": [
    {
     "name": "stdout",
     "output_type": "stream",
     "text": [
      " Nanda \n",
      " Nanda\n"
     ]
    },
    {
     "name": "stdout",
     "output_type": "stream",
     "text": [
      "Nanda  != Nanda\n"
     ]
    }
   ],
   "source": [
    "# 7. Comparing strings\n",
    "\n",
    "a=input()\n",
    "b=input()\n",
    "if a == b:\n",
    "    print(a,\"==\",b)\n",
    "else:\n",
    "    print(a,\"!=\",b)"
   ]
  },
  {
   "cell_type": "markdown",
   "id": "66db767c-d449-41cc-9ccc-546ca66732ae",
   "metadata": {},
   "source": [
    "## Inheritance"
   ]
  },
  {
   "cell_type": "code",
   "execution_count": 29,
   "id": "f7d881e3-19c3-476e-8a55-07536ba216dd",
   "metadata": {},
   "outputs": [
    {
     "name": "stdout",
     "output_type": "stream",
     "text": [
      "In class A\n",
      "In class B\n",
      "In class C\n",
      "I am in class in A\n"
     ]
    }
   ],
   "source": [
    "class A:\n",
    "    def __init__(self):\n",
    "        print(\"In class A\")\n",
    "    def one(self,call):\n",
    "        print(\"I am in class in A\")\n",
    "\n",
    "class B(A):\n",
    "    def __init__(self):\n",
    "        print(\"In class B\")\n",
    "    def two(self):\n",
    "        print(\"I am in class in B\")\n",
    "\n",
    "class C(B):\n",
    "    def __init__(self):\n",
    "        print(\"In class C\")\n",
    "    def one(self,name):\n",
    "        print(\"I am in class in C\")\n",
    "\n",
    "a=A()\n",
    "b=B()\n",
    "c=C()\n",
    "a.one(\"Nanda\")"
   ]
  },
  {
   "cell_type": "code",
   "execution_count": 1,
   "id": "177c86c3-e137-497c-9178-42bc77620f15",
   "metadata": {},
   "outputs": [
    {
     "name": "stdout",
     "output_type": "stream",
     "text": [
      "1\n",
      "2\n"
     ]
    },
    {
     "ename": "UnboundLocalError",
     "evalue": "cannot access local variable 'roll_no_1' where it is not associated with a value",
     "output_type": "error",
     "traceback": [
      "\u001b[1;31m---------------------------------------------------------------------------\u001b[0m",
      "\u001b[1;31mUnboundLocalError\u001b[0m                         Traceback (most recent call last)",
      "Cell \u001b[1;32mIn[1], line 12\u001b[0m\n\u001b[0;32m      9\u001b[0m         roll_no_1 \u001b[38;5;241m=\u001b[39m roll_no_1\n\u001b[0;32m     10\u001b[0m         __roll_no_2 \u001b[38;5;241m=\u001b[39m roll_no_2\n\u001b[1;32m---> 12\u001b[0m school()\n",
      "Cell \u001b[1;32mIn[1], line 9\u001b[0m, in \u001b[0;36mschool.__init__\u001b[1;34m(self)\u001b[0m\n\u001b[0;32m      8\u001b[0m \u001b[38;5;28;01mdef\u001b[39;00m \u001b[38;5;21m__init__\u001b[39m(\u001b[38;5;28mself\u001b[39m):\n\u001b[1;32m----> 9\u001b[0m     roll_no_1 \u001b[38;5;241m=\u001b[39m roll_no_1\n\u001b[0;32m     10\u001b[0m     __roll_no_2 \u001b[38;5;241m=\u001b[39m roll_no_2\n",
      "\u001b[1;31mUnboundLocalError\u001b[0m: cannot access local variable 'roll_no_1' where it is not associated with a value"
     ]
    }
   ],
   "source": [
    "class school:\n",
    "\n",
    "    roll_no_1 = 1\n",
    "    __roll_no_2 = 2\n",
    "    print(roll_no_1)\n",
    "    print(__roll_no_2)\n",
    "\n",
    "    def __init__(self):\n",
    "        roll_no_1 = roll_no_1\n",
    "        __roll_no_2 = roll_no_2\n",
    "\n",
    "school()"
   ]
  },
  {
   "cell_type": "markdown",
   "id": "97e005bc-f399-4368-9206-bf5eee6d4b1c",
   "metadata": {},
   "source": [
    "## Acess Modifier"
   ]
  },
  {
   "cell_type": "code",
   "execution_count": 33,
   "id": "07e9cf9a-ecb2-4069-b3ea-9814da8e2de9",
   "metadata": {},
   "outputs": [
    {
     "name": "stdout",
     "output_type": "stream",
     "text": [
      "I am Public\n",
      "I am Private\n"
     ]
    }
   ],
   "source": [
    "class FirstSchool:\n",
    "    def __init__(self, var1, var2):\n",
    "        self.var1 = var1\n",
    "        self.var2 = var2\n",
    "\n",
    "    def PublicDisplay(self):\n",
    "        print(self.var1)\n",
    "        \n",
    "    def accessPrivate(self):\n",
    "        print(self.var2)\n",
    "\n",
    "class SecondSchool(FirstSchool):\n",
    "    def __init__(self, var1, var2):\n",
    "        # Call the parent constructor (FirstSchool) to initialize the inherited attributes\n",
    "        super().__init__(var1, var2)\n",
    "\n",
    "# Create an instance of SecondSchool with arguments\n",
    "obj = SecondSchool(\"I am Public\", \"I am Private\")\n",
    "obj.PublicDisplay()  # This will print: I am Public\n",
    "obj.accessPrivate()  # This will print: I am Private\n",
    "\n"
   ]
  },
  {
   "cell_type": "markdown",
   "id": "a88368e1-33c7-4fd3-9296-3a067b6178c4",
   "metadata": {},
   "source": [
    "## Abstract Class\n"
   ]
  },
  {
   "cell_type": "code",
   "execution_count": 34,
   "id": "1ec6287b-a4ce-487a-9cbd-c51673f2622a",
   "metadata": {},
   "outputs": [
    {
     "name": "stdout",
     "output_type": "stream",
     "text": [
      "Vehicle is ready to start\n",
      "Vehicle started\n",
      "Vehicle is ready to start\n"
     ]
    }
   ],
   "source": [
    "# Create an abstract class with abstract and non-abstract methods.\n",
    "\n",
    "from abc import ABC, abstractmethod \n",
    "\n",
    "class Vehicle:\n",
    "    def start():\n",
    "        pass\n",
    "\n",
    "    def ready(self,):\n",
    "        print(\"Vehicle is ready to start\")\n",
    "# Create a sub class for an abstract class. Create an object in the child class for the abstract class and access the non-abstract methods\n",
    "\n",
    "class Car(Vehicle):\n",
    "    def start(self):\n",
    "        print(\"Vehicle started\")\n",
    "\n",
    "car1 = Car()\n",
    "car1.ready()\n",
    "# Create an instance for the child class in child class and call abstract methods\n",
    "\n",
    "car1.start()\n",
    "# 4. Create an instance for the child class in child class and call non-abstract methods\n",
    "\n",
    "car1.ready()"
   ]
  },
  {
   "cell_type": "code",
   "execution_count": null,
   "id": "e6d36c02-63ba-4e28-9e60-0c4f40aec479",
   "metadata": {},
   "outputs": [],
   "source": [
    "# class1.py\n",
    "\n",
    "class Class1:\n",
    "    def __init__(self, name):\n",
    "        self.name = name  # The constructor takes 'name' as an argument\n",
    "\n",
    "    def greet(self):\n",
    "        return f\"Hello, {self.name}! Welcome to Class1.\"\n"
   ]
  },
  {
   "cell_type": "code",
   "execution_count": 51,
   "id": "57033051-95bc-46b3-8d2c-519fb70b96bb",
   "metadata": {},
   "outputs": [],
   "source": [
    "# class2.py\n",
    "\n",
    "class Class2:\n",
    "    def __init__(self, age):\n",
    "        self.age = age  # The constructor takes 'age' as an argument\n",
    "\n",
    "    def display_age(self):\n",
    "        return f\"You are {self.age} years old in Class2.\"\n"
   ]
  },
  {
   "cell_type": "code",
   "execution_count": 5,
   "id": "f133baa1-cdd0-4865-bb11-e0541ddca232",
   "metadata": {},
   "outputs": [
    {
     "ename": "ModuleNotFoundError",
     "evalue": "No module named 'class1'",
     "output_type": "error",
     "traceback": [
      "\u001b[1;31m---------------------------------------------------------------------------\u001b[0m",
      "\u001b[1;31mModuleNotFoundError\u001b[0m                       Traceback (most recent call last)",
      "Cell \u001b[1;32mIn[5], line 2\u001b[0m\n\u001b[0;32m      1\u001b[0m \u001b[38;5;66;03m# main.py\u001b[39;00m\n\u001b[1;32m----> 2\u001b[0m \u001b[38;5;28;01mfrom\u001b[39;00m \u001b[38;5;21;01mclass1\u001b[39;00m \u001b[38;5;28;01mimport\u001b[39;00m Class1\n\u001b[0;32m      3\u001b[0m \u001b[38;5;28;01mfrom\u001b[39;00m \u001b[38;5;21;01mclass2\u001b[39;00m \u001b[38;5;28;01mimport\u001b[39;00m Class2\n\u001b[0;32m      5\u001b[0m \u001b[38;5;28;01mdef\u001b[39;00m \u001b[38;5;21mmain\u001b[39m():\n\u001b[0;32m      6\u001b[0m     \u001b[38;5;66;03m# Creating objects of Class1 and Class2\u001b[39;00m\n",
      "\u001b[1;31mModuleNotFoundError\u001b[0m: No module named 'class1'"
     ]
    }
   ],
   "source": [
    "# main.py\n",
    "from class1 import Class1\n",
    "from class2 import Class2\n",
    "\n",
    "def main():\n",
    "    # Creating objects of Class1 and Class2\n",
    "    obj1 = Class1(\"Alice\")\n",
    "    obj2 = Class2(30)\n",
    "    \n",
    "    # Calling methods and printing results\n",
    "    print(obj1.greet())  # Calls the greet method of Class1\n",
    "    print(obj2.display_age())  # Calls the display_age method of Class2\n",
    "\n",
    "if __name__ == \"__main__\":\n",
    "    main()\n",
    "\n"
   ]
  },
  {
   "cell_type": "markdown",
   "id": "cec840ef-61d3-454b-afe6-151b2bd109b0",
   "metadata": {},
   "source": [
    "## Packages"
   ]
  },
  {
   "cell_type": "code",
   "execution_count": 16,
   "id": "efdc6e86-c75d-4b35-a593-43c8e30d8dea",
   "metadata": {},
   "outputs": [
    {
     "name": "stdout",
     "output_type": "stream",
     "text": [
      "Hello from ClassOne, Name: Leela\n",
      "Hello from ClassTwo, Age: 23\n"
     ]
    },
    {
     "ename": "ModuleNotFoundError",
     "evalue": "No module named 'modules'",
     "output_type": "error",
     "traceback": [
      "\u001b[1;31m---------------------------------------------------------------------------\u001b[0m",
      "\u001b[1;31mModuleNotFoundError\u001b[0m                       Traceback (most recent call last)",
      "Cell \u001b[1;32mIn[16], line 21\u001b[0m\n\u001b[0;32m     18\u001b[0m obj1\u001b[38;5;241m.\u001b[39mdisplay()\n\u001b[0;32m     19\u001b[0m obj2\u001b[38;5;241m.\u001b[39mshow()\n\u001b[1;32m---> 21\u001b[0m \u001b[38;5;28;01mfrom\u001b[39;00m \u001b[38;5;21;01mmodules\u001b[39;00m\u001b[38;5;21;01m.\u001b[39;00m\u001b[38;5;21;01mclass1\u001b[39;00m \u001b[38;5;28;01mimport\u001b[39;00m ClassOne\n\u001b[0;32m     22\u001b[0m \u001b[38;5;28;01mfrom\u001b[39;00m \u001b[38;5;21;01mmodules\u001b[39;00m\u001b[38;5;21;01m.\u001b[39;00m\u001b[38;5;21;01mclass2\u001b[39;00m \u001b[38;5;28;01mimport\u001b[39;00m ClassTwo\n",
      "\u001b[1;31mModuleNotFoundError\u001b[0m: No module named 'modules'"
     ]
    }
   ],
   "source": [
    "class ClassOne:\n",
    "    def __init__(self, name):\n",
    "        self.name = name\n",
    "\n",
    "    def display(self):\n",
    "        print(f\"Hello from ClassOne, Name: {self.name}\")\n",
    "class ClassTwo:\n",
    "    def __init__(self, age):\n",
    "        self.age = age\n",
    "\n",
    "    def show(self):\n",
    "        print(f\"Hello from ClassTwo, Age: {self.age}\")\n",
    "# Creating objects for both classes\n",
    "obj1 = ClassOne(\"Leela\")\n",
    "obj2 = ClassTwo(23)\n",
    "\n",
    "# Calling methodspa\n",
    "obj1.display()\n",
    "obj2.show()\n",
    "\n",
    "from modules.class1 import ClassOne\n",
    "from modules.class2 import ClassTwo"
   ]
  },
  {
   "cell_type": "markdown",
   "id": "1f35c8d9-2e81-4e5e-bf78-b976fb1ed1fe",
   "metadata": {},
   "source": [
    "## Files"
   ]
  },
  {
   "cell_type": "code",
   "execution_count": 44,
   "id": "af6fd847-868e-4520-87be-d138c208b0c3",
   "metadata": {},
   "outputs": [
    {
     "name": "stdout",
     "output_type": "stream",
     "text": [
      "hello world\n"
     ]
    }
   ],
   "source": [
    "readfile = open(\"hi.txt\",'r')\n",
    "file = readfile.read()\n",
    "print(file)\n"
   ]
  },
  {
   "cell_type": "code",
   "execution_count": 45,
   "id": "278ab769-963c-45ee-accf-6d4aa2cbd5db",
   "metadata": {},
   "outputs": [
    {
     "data": {
      "text/plain": [
       "13"
      ]
     },
     "execution_count": 45,
     "metadata": {},
     "output_type": "execute_result"
    }
   ],
   "source": [
    "file2 = open('hello.txt','w')\n",
    "name = \"Nanda Kishore\"\n",
    "file2.write(name)\n"
   ]
  },
  {
   "cell_type": "code",
   "execution_count": 46,
   "id": "15973c7c-ce2e-470f-8082-a8dc2b20323a",
   "metadata": {},
   "outputs": [
    {
     "name": "stdout",
     "output_type": "stream",
     "text": [
      "Characters from index 5: e\n",
      "hi.txt has read access\n",
      "hi.txt has write access\n"
     ]
    }
   ],
   "source": [
    "with open(\"hi.txt\", \"r\") as file:\n",
    "    file.seek(1)\n",
    "    data = file.read(1)\n",
    "    print(\"Characters from index 5:\", data)\n",
    "\n",
    "import os\n",
    "\n",
    "file_path = \"hi.txt\"\n",
    "\n",
    "if os.access(file_path, os.R_OK):\n",
    "    print(f\"{file_path} has read access\")\n",
    "if os.access(file_path, os.W_OK):\n",
    "    print(f\"{file_path} has write access\")"
   ]
  },
  {
   "cell_type": "markdown",
   "id": "5d6999a5-d24a-4412-9040-89735531b144",
   "metadata": {},
   "source": [
    "## Constructor"
   ]
  },
  {
   "cell_type": "code",
   "execution_count": 36,
   "id": "c47e22ee-a079-4bca-bb3f-9d0099262686",
   "metadata": {},
   "outputs": [
    {
     "name": "stdout",
     "output_type": "stream",
     "text": [
      "Person created: Name = Nanda, Age = 21, Country = India\n",
      "Name: Nanda, Age: 21, Country: India\n",
      "Person created: Name = Kishore, Age = 21, Country = UK\n",
      "Name: Kishore, Age: 21, Country: UK\n"
     ]
    }
   ],
   "source": [
    "class Person:\n",
    "    def __init__(self, name, age, country):\n",
    "        self.name = name     \n",
    "        self.age = age        \n",
    "        self.country = country  \n",
    "        print(f\"Person created: Name = {self.name}, Age = {self.age}, Country = {self.country}\")\n",
    "    def show_info(self):\n",
    "        print(f\"Name: {self.name}, Age: {self.age}, Country: {self.country}\")\n",
    "def main():\n",
    "    person1 = Person(\"Nanda\", 21, \"India\")  \n",
    "    person1.show_info()\n",
    "    person2 = Person(\"Kishore\", 21, \"UK\")  \n",
    "    person2.show_info() \n",
    "if __name__ == \"__main__\":\n",
    "    main()"
   ]
  },
  {
   "cell_type": "markdown",
   "id": "b8621129-1cec-4d84-8b62-da93ad2f9927",
   "metadata": {},
   "source": [
    "## Method overloading"
   ]
  },
  {
   "cell_type": "code",
   "execution_count": 37,
   "id": "2284d25f-86e2-475d-8e2a-a33f4ea27464",
   "metadata": {},
   "outputs": [
    {
     "name": "stdout",
     "output_type": "stream",
     "text": [
      "Hello, Nanda\n",
      "Good morning, Kishore\n"
     ]
    }
   ],
   "source": [
    "# Method with the same name but different number of parameters\n",
    "def greet(name, greeting=\"Hello\"):\n",
    "    print(f\"{greeting}, {name}\")\n",
    "greet(\"Nanda\")\n",
    "greet(\"Kishore\", \"Good morning\")"
   ]
  },
  {
   "cell_type": "code",
   "execution_count": 38,
   "id": "9ae61b09-e255-4261-9e72-351fa662153e",
   "metadata": {},
   "outputs": [
    {
     "name": "stdout",
     "output_type": "stream",
     "text": [
      "String: Hello\n",
      "Integer: 123\n"
     ]
    }
   ],
   "source": [
    "# Method with the same name but different data types\n",
    "def display_info(value):\n",
    "    if isinstance(value, str):\n",
    "        print(f\"String: {value}\")\n",
    "    elif isinstance(value, int):\n",
    "        print(f\"Integer: {value}\")\n",
    "    else:\n",
    "        print(\"Unknown type\")\n",
    "display_info(\"Hello\")\n",
    "display_info(123)"
   ]
  },
  {
   "cell_type": "code",
   "execution_count": 39,
   "id": "f7829237-a3b8-416d-ab8c-b1b37e5689bb",
   "metadata": {},
   "outputs": [
    {
     "name": "stdout",
     "output_type": "stream",
     "text": [
      "String: Hello\n",
      "Integer: 123\n"
     ]
    }
   ],
   "source": [
    "# Method with the same name but different data types\n",
    "def display_info(value):\n",
    "    if isinstance(value, str):\n",
    "        print(f\"String: {value}\")\n",
    "    elif isinstance(value, int):\n",
    "        print(f\"Integer: {value}\")\n",
    "    else:\n",
    "        print(\"Unknown type\")\n",
    "display_info(\"Hello\")\n",
    "display_info(123)"
   ]
  },
  {
   "cell_type": "markdown",
   "id": "d6d8caf3-cf04-4f3f-b8d9-57ab718c1275",
   "metadata": {},
   "source": [
    "## Exception Handling"
   ]
  },
  {
   "cell_type": "code",
   "execution_count": 2,
   "id": "5509fe39-dad5-4624-9bef-e4ac64c825b9",
   "metadata": {},
   "outputs": [
    {
     "ename": "ZeroDivisionError",
     "evalue": "division by zero",
     "output_type": "error",
     "traceback": [
      "\u001b[1;31m---------------------------------------------------------------------------\u001b[0m",
      "\u001b[1;31mZeroDivisionError\u001b[0m                         Traceback (most recent call last)",
      "Cell \u001b[1;32mIn[2], line 3\u001b[0m\n\u001b[0;32m      1\u001b[0m \u001b[38;5;66;03m# 1. Write a program to generate Arithmetic Exception without exception handling\u001b[39;00m\n\u001b[1;32m----> 3\u001b[0m a\u001b[38;5;241m=\u001b[39m\u001b[38;5;241m10\u001b[39m\u001b[38;5;241m/\u001b[39m\u001b[38;5;241m0\u001b[39m\n\u001b[0;32m      4\u001b[0m \u001b[38;5;28mprint\u001b[39m(a)\n",
      "\u001b[1;31mZeroDivisionError\u001b[0m: division by zero"
     ]
    }
   ],
   "source": [
    "# 1. Write a program to generate Arithmetic Exception without exception handling\n",
    "\n",
    "a=10/0\n",
    "print(a)"
   ]
  },
  {
   "cell_type": "code",
   "execution_count": 3,
   "id": "91962faa-c8c9-425b-93f0-f6e202415cda",
   "metadata": {},
   "outputs": [
    {
     "name": "stdout",
     "output_type": "stream",
     "text": [
      "Caught an Arithmetic Exception: division by zero\n"
     ]
    }
   ],
   "source": [
    "# 2. Handle the Arithmetic exception using try-catch block\n",
    "\n",
    "try:\n",
    "    result = 10 / 0\n",
    "except ZeroDivisionError as e:\n",
    "    print(\"Caught an Arithmetic Exception:\", e)\n",
    "\n",
    "\n"
   ]
  },
  {
   "cell_type": "code",
   "execution_count": 4,
   "id": "026c8cf7-98b0-4bdc-90be-c7717def19cd",
   "metadata": {},
   "outputs": [
    {
     "ename": "ValueError",
     "evalue": "This method throws an exception!",
     "output_type": "error",
     "traceback": [
      "\u001b[1;31m---------------------------------------------------------------------------\u001b[0m",
      "\u001b[1;31mValueError\u001b[0m                                Traceback (most recent call last)",
      "Cell \u001b[1;32mIn[4], line 7\u001b[0m\n\u001b[0;32m      4\u001b[0m     \u001b[38;5;28;01mraise\u001b[39;00m \u001b[38;5;167;01mValueError\u001b[39;00m(\u001b[38;5;124m\"\u001b[39m\u001b[38;5;124mThis method throws an exception!\u001b[39m\u001b[38;5;124m\"\u001b[39m)\n\u001b[0;32m      6\u001b[0m \u001b[38;5;66;03m# Calling the method without handling the exception\u001b[39;00m\n\u001b[1;32m----> 7\u001b[0m throw_exception()\n",
      "Cell \u001b[1;32mIn[4], line 4\u001b[0m, in \u001b[0;36mthrow_exception\u001b[1;34m()\u001b[0m\n\u001b[0;32m      3\u001b[0m \u001b[38;5;28;01mdef\u001b[39;00m \u001b[38;5;21mthrow_exception\u001b[39m():\n\u001b[1;32m----> 4\u001b[0m     \u001b[38;5;28;01mraise\u001b[39;00m \u001b[38;5;167;01mValueError\u001b[39;00m(\u001b[38;5;124m\"\u001b[39m\u001b[38;5;124mThis method throws an exception!\u001b[39m\u001b[38;5;124m\"\u001b[39m)\n",
      "\u001b[1;31mValueError\u001b[0m: This method throws an exception!"
     ]
    }
   ],
   "source": [
    "# 3. Write a method which throws exception, Call that method in main class without try block\n",
    "\n",
    "def throw_exception():\n",
    "    raise ValueError(\"This method throws an exception!\")\n",
    "\n",
    "# Calling the method without handling the exception\n",
    "throw_exception()"
   ]
  },
  {
   "cell_type": "code",
   "execution_count": 5,
   "id": "99ef8503-de52-4d35-a452-7801015433af",
   "metadata": {},
   "outputs": [
    {
     "name": "stdout",
     "output_type": "stream",
     "text": [
      "Enter a number:  150\n"
     ]
    }
   ],
   "source": [
    "# 4. Write a program with multiple catch blocks\n",
    "\n",
    "try:\n",
    "    x = int(input(\"Enter a number: \"))  # Could cause ValueError\n",
    "    result = 10 / x  # Could cause ZeroDivisionError\n",
    "except ZeroDivisionError:\n",
    "    print(\"Cannot divide by zero!\")\n",
    "except ValueError:\n",
    "    print(\"Invalid input! Please enter a number.\")\n",
    "except Exception as e:\n",
    "    print(\"Some other error occurred:\", e)\n",
    "    "
   ]
  },
  {
   "cell_type": "code",
   "execution_count": 6,
   "id": "4dd3b837-0c89-4d2d-bc0b-0e6c6dc84fcd",
   "metadata": {},
   "outputs": [
    {
     "ename": "ValueError",
     "evalue": "Negative numbers are not allowed!",
     "output_type": "error",
     "traceback": [
      "\u001b[1;31m---------------------------------------------------------------------------\u001b[0m",
      "\u001b[1;31mValueError\u001b[0m                                Traceback (most recent call last)",
      "Cell \u001b[1;32mIn[6], line 7\u001b[0m\n\u001b[0;32m      4\u001b[0m     \u001b[38;5;28;01mif\u001b[39;00m n \u001b[38;5;241m<\u001b[39m \u001b[38;5;241m0\u001b[39m:\n\u001b[0;32m      5\u001b[0m         \u001b[38;5;28;01mraise\u001b[39;00m \u001b[38;5;167;01mValueError\u001b[39;00m(\u001b[38;5;124m\"\u001b[39m\u001b[38;5;124mNegative numbers are not allowed!\u001b[39m\u001b[38;5;124m\"\u001b[39m)\n\u001b[1;32m----> 7\u001b[0m check_value(\u001b[38;5;241m-\u001b[39m\u001b[38;5;241m5\u001b[39m)\n",
      "Cell \u001b[1;32mIn[6], line 5\u001b[0m, in \u001b[0;36mcheck_value\u001b[1;34m(n)\u001b[0m\n\u001b[0;32m      3\u001b[0m \u001b[38;5;28;01mdef\u001b[39;00m \u001b[38;5;21mcheck_value\u001b[39m(n):\n\u001b[0;32m      4\u001b[0m     \u001b[38;5;28;01mif\u001b[39;00m n \u001b[38;5;241m<\u001b[39m \u001b[38;5;241m0\u001b[39m:\n\u001b[1;32m----> 5\u001b[0m         \u001b[38;5;28;01mraise\u001b[39;00m \u001b[38;5;167;01mValueError\u001b[39;00m(\u001b[38;5;124m\"\u001b[39m\u001b[38;5;124mNegative numbers are not allowed!\u001b[39m\u001b[38;5;124m\"\u001b[39m)\n",
      "\u001b[1;31mValueError\u001b[0m: Negative numbers are not allowed!"
     ]
    }
   ],
   "source": [
    "# 5. Write a program to throw exception with your own message\n",
    "\n",
    "def check_value(n):\n",
    "    if n < 0:\n",
    "        raise ValueError(\"Negative numbers are not allowed!\")\n",
    "\n",
    "check_value(-5)"
   ]
  },
  {
   "cell_type": "code",
   "execution_count": 8,
   "id": "8192aba6-e6ac-4a19-8eb4-bf032558dc5d",
   "metadata": {},
   "outputs": [
    {
     "ename": "MyCustomException",
     "evalue": "This is my own custom exception!",
     "output_type": "error",
     "traceback": [
      "\u001b[1;31m---------------------------------------------------------------------------\u001b[0m",
      "\u001b[1;31mMyCustomException\u001b[0m                         Traceback (most recent call last)",
      "Cell \u001b[1;32mIn[8], line 6\u001b[0m\n\u001b[0;32m      4\u001b[0m     \u001b[38;5;28;01mdef\u001b[39;00m \u001b[38;5;21m__init__\u001b[39m(\u001b[38;5;28mself\u001b[39m, message):\n\u001b[0;32m      5\u001b[0m         \u001b[38;5;28msuper\u001b[39m()\u001b[38;5;241m.\u001b[39m\u001b[38;5;21m__init__\u001b[39m(message)\n\u001b[1;32m----> 6\u001b[0m \u001b[38;5;28;01mraise\u001b[39;00m MyCustomException(\u001b[38;5;124m\"\u001b[39m\u001b[38;5;124mThis is my own custom exception!\u001b[39m\u001b[38;5;124m\"\u001b[39m)\n",
      "\u001b[1;31mMyCustomException\u001b[0m: This is my own custom exception!"
     ]
    }
   ],
   "source": [
    "# 6. Write a program to create your own exception\n",
    "\n",
    "class MyCustomException(Exception):\n",
    "    def __init__(self, message):\n",
    "        super().__init__(message)\n",
    "raise MyCustomException(\"This is my own custom exception!\")\n"
   ]
  },
  {
   "cell_type": "code",
   "execution_count": 9,
   "id": "2a772510-2495-485d-8bcc-16c5a7b94a62",
   "metadata": {},
   "outputs": [
    {
     "name": "stdout",
     "output_type": "stream",
     "text": [
      "Cannot divide by zero!\n",
      "This is the finally block. It always executes!\n"
     ]
    }
   ],
   "source": [
    "# 7. Write a program with finally block\n",
    "\n",
    "try:\n",
    "    result = 10 / 0\n",
    "    print(\"Result:\", result)\n",
    "except ZeroDivisionError:\n",
    "    print(\"Cannot divide by zero!\")\n",
    "finally:\n",
    "    print(\"This is the finally block. It always executes!\")"
   ]
  },
  {
   "cell_type": "code",
   "execution_count": 10,
   "id": "a23bdb81-45ef-4b6d-902f-5307766604c2",
   "metadata": {},
   "outputs": [
    {
     "ename": "ZeroDivisionError",
     "evalue": "division by zero",
     "output_type": "error",
     "traceback": [
      "\u001b[1;31m---------------------------------------------------------------------------\u001b[0m",
      "\u001b[1;31mZeroDivisionError\u001b[0m                         Traceback (most recent call last)",
      "Cell \u001b[1;32mIn[10], line 3\u001b[0m\n\u001b[0;32m      1\u001b[0m \u001b[38;5;66;03m# 8. Write a program to generate Arithmetic Exception\u001b[39;00m\n\u001b[1;32m----> 3\u001b[0m result \u001b[38;5;241m=\u001b[39m \u001b[38;5;241m10\u001b[39m \u001b[38;5;241m/\u001b[39m \u001b[38;5;241m0\u001b[39m\n",
      "\u001b[1;31mZeroDivisionError\u001b[0m: division by zero"
     ]
    }
   ],
   "source": [
    "# 8. Write a program to generate Arithmetic Exception\n",
    "\n",
    "result = 10 / 0  "
   ]
  },
  {
   "cell_type": "code",
   "execution_count": 11,
   "id": "171cf208-b3bb-4997-9d95-eaefce13d7b5",
   "metadata": {},
   "outputs": [
    {
     "name": "stdout",
     "output_type": "stream",
     "text": [
      "Caught FileNotFoundException: [Errno 2] No such file or directory: 'non_existent_file.txt'\n"
     ]
    }
   ],
   "source": [
    "# 9. Write a program to generate FileNotFoundException\n",
    "\n",
    "try:\n",
    "    f = open(\"non_existent_file.txt\", \"r\") \n",
    "except FileNotFoundError as e:\n",
    "    print(\"Caught FileNotFoundException:\", e)"
   ]
  },
  {
   "cell_type": "code",
   "execution_count": 12,
   "id": "47f62469-3504-4208-b81d-d84c6ab28d6d",
   "metadata": {},
   "outputs": [
    {
     "name": "stdout",
     "output_type": "stream",
     "text": [
      "Caught ClassNotFoundException : No module named 'non_existent_module'\n"
     ]
    }
   ],
   "source": [
    "# 10. Write a program to generate ClassNotFoundException\n",
    "\n",
    "try:\n",
    "    import non_existent_module \n",
    "except ImportError as e:\n",
    "    print(\"Caught ClassNotFoundException :\", e)"
   ]
  },
  {
   "cell_type": "code",
   "execution_count": 13,
   "id": "2e1ca627-f695-4674-b8ca-a703005f6ebc",
   "metadata": {},
   "outputs": [
    {
     "name": "stdout",
     "output_type": "stream",
     "text": [
      "Caught IOException : [Errno 2] No such file or directory: 'non_existent_file.txt'\n"
     ]
    }
   ],
   "source": [
    "# 11. Write a program to generate IOException\n",
    "\n",
    "try:\n",
    "    with open(\"non_existent_file.txt\", \"r\") as file:\n",
    "        content = file.read()\n",
    "except OSError as e:\n",
    "    print(\"Caught IOException :\", e)"
   ]
  },
  {
   "cell_type": "code",
   "execution_count": 14,
   "id": "4d797cb6-249d-4675-9d9b-804b030e6f79",
   "metadata": {},
   "outputs": [
    {
     "name": "stdout",
     "output_type": "stream",
     "text": [
      "Caught NoSuchFieldException : 'Demo' object has no attribute 'non_existent_field'\n"
     ]
    }
   ],
   "source": [
    "# 12. Write a program to generate NoSuchFieldException\n",
    "\n",
    "class Demo:\n",
    "    def __init__(self):\n",
    "        self.value = 10\n",
    "obj = Demo()\n",
    "try:\n",
    "    print(obj.non_existent_field) \n",
    "except AttributeError as e:\n",
    "    print(\"Caught NoSuchFieldException :\", e)\n"
   ]
  },
  {
   "cell_type": "markdown",
   "id": "77b555ce-fb91-471c-9dfc-9ad631c61b3b",
   "metadata": {},
   "source": [
    "## Dictionary"
   ]
  },
  {
   "cell_type": "code",
   "execution_count": 19,
   "id": "6ed8969d-2cfb-40dc-aab9-9e7628dca6b1",
   "metadata": {},
   "outputs": [
    {
     "name": "stdout",
     "output_type": "stream",
     "text": [
      "Original Dictionary: {'Nanda': 21, 'Bob': 22, 'Charlie': 23, 'David': 24, 'Eve': 25}\n",
      "After Adding: {'Nanda': 21, 'Bob': 22, 'Charlie': 23, 'David': 24, 'Eve': 25, 'Frank': 26}\n",
      "After Updating: {'Nanda': 21, 'Bob': 22, 'Charlie': 23, 'David': 24, 'Eve': 25, 'Frank': 26, 'Bobby': 27}\n",
      "Student Nanda: 21\n",
      "Nested Dictionary: {'Nanda': {'Age': 21, 'Grade': 'A'}, 'Bob': {'Age': 22, 'Grade': 'B'}, 'Charlie': {'Age': 23, 'Grade': 'A'}}\n",
      "Details of Nanda: {'Age': 21, 'Grade': 'A'}\n",
      "Nanda's Age: 21\n",
      "Keys in the dictionary: dict_keys(['Nanda', 'Bob', 'Charlie'])\n",
      "After Deleting Eve: {'Nanda': {'Age': 21, 'Grade': 'A'}, 'Charlie': {'Age': 23, 'Grade': 'A'}}\n"
     ]
    }
   ],
   "source": [
    "students = {\n",
    "    \"Nanda\":21,\n",
    "    \"Bob\":22,\n",
    "    \"Charlie\":23,\n",
    "    \"David\":24,\n",
    "    \"Eve\":25\n",
    "}\n",
    "\n",
    "print(\"Original Dictionary:\", students)\n",
    "\n",
    "students[\"Frank\"] = 26 \n",
    "print(\"After Adding:\", students)\n",
    "\n",
    "students[\"Bobby\"]=27\n",
    "print(\"After Updating:\", students)\n",
    "\n",
    "print(f\"Student {'Nanda'}:\", students[\"Nanda\"])\n",
    "\n",
    "\n",
    "students = {\n",
    "    \"Nanda\": {\"Age\": 21, \"Grade\": \"A\"},\n",
    "    \"Bob\": {\"Age\": 22, \"Grade\": \"B\"},\n",
    "    \"Charlie\": {\"Age\": 23, \"Grade\": \"A\"}\n",
    "}\n",
    "print(\"Nested Dictionary:\", students)\n",
    "\n",
    "print(\"Details of Nanda:\", students[\"Nanda\"])  \n",
    "print(\"Nanda's Age:\", students[\"Nanda\"][\"Age\"])\n",
    "\n",
    "print(\"Keys in the dictionary:\", students.keys())\n",
    "\n",
    "del students[\"Bob\"]\n",
    "print(\"After Deleting Eve:\", students)\n",
    "\n"
   ]
  },
  {
   "cell_type": "code",
   "execution_count": null,
   "id": "65b365d3-55af-414a-8c56-cdb110e1be85",
   "metadata": {},
   "outputs": [],
   "source": []
  }
 ],
 "metadata": {
  "kernelspec": {
   "display_name": "Python 3 (ipykernel)",
   "language": "python",
   "name": "python3"
  },
  "language_info": {
   "codemirror_mode": {
    "name": "ipython",
    "version": 3
   },
   "file_extension": ".py",
   "mimetype": "text/x-python",
   "name": "python",
   "nbconvert_exporter": "python",
   "pygments_lexer": "ipython3",
   "version": "3.12.4"
  }
 },
 "nbformat": 4,
 "nbformat_minor": 5
}
